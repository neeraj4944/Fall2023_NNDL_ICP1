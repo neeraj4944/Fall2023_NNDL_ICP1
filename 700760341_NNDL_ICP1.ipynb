{
  "nbformat": 4,
  "nbformat_minor": 0,
  "metadata": {
    "colab": {
      "provenance": []
    },
    "kernelspec": {
      "name": "python3",
      "display_name": "Python 3"
    },
    "language_info": {
      "name": "python"
    }
  },
  "cells": [
    {
      "cell_type": "code",
      "execution_count": 2,
      "metadata": {
        "colab": {
          "base_uri": "https://localhost:8080/"
        },
        "id": "UokzIVnthkWv",
        "outputId": "3d04976c-9d89-45eb-e03b-3ae9e7352471"
      },
      "outputs": [
        {
          "name": "stdout",
          "output_type": "stream",
          "text": [
            "Enter a string:Python\n"
          ]
        }
      ],
      "source": [
        "# 1a. Input the string “Python” as a list of characters from console, delete at least 2 characters, reverse the resultant string and print it\n",
        "# Enter input string\n",
        "input_string = list(input(\"Enter a string:\"))"
      ]
    },
    {
      "cell_type": "code",
      "source": [
        "# Delete 2 characters from the string\n",
        "character_to_delete = min(2, len(input_string))\n",
        "output_string = input_string[character_to_delete:]\n",
        "\n",
        "# print result\n",
        "print(\"Output string after deleting 2 characters: \", output_string)\n"
      ],
      "metadata": {
        "colab": {
          "base_uri": "https://localhost:8080/"
        },
        "id": "h1Zg7iNniKBH",
        "outputId": "473bd579-8897-451f-99f1-1c048f20499b"
      },
      "execution_count": 4,
      "outputs": [
        {
          "output_type": "stream",
          "name": "stdout",
          "text": [
            "Output string after deleting 2 characters:  ['t', 'h', 'o', 'n']\n"
          ]
        }
      ]
    },
    {
      "cell_type": "code",
      "source": [
        "# Reverse String\n",
        "reversed_string = ''.join(reversed(output_string))\n",
        "\n",
        "# Print reversed string as result\n",
        "print(\"Reversed string: \", reversed_string)"
      ],
      "metadata": {
        "colab": {
          "base_uri": "https://localhost:8080/"
        },
        "id": "8wKWyzNejP71",
        "outputId": "c55874e2-5ec2-4dad-ce45-6c108a23ca0d"
      },
      "execution_count": 5,
      "outputs": [
        {
          "output_type": "stream",
          "name": "stdout",
          "text": [
            "Reversed string:  noht\n"
          ]
        }
      ]
    },
    {
      "cell_type": "code",
      "source": [
        "# 1b. Take two numbers as user input and perform at least 4 arithmetic operations\n",
        "# Enter two numbers as input\n",
        "num1 = float(input(\"Enter first num: \"))\n",
        "num2 = float(input(\"Enter second num: \"))"
      ],
      "metadata": {
        "colab": {
          "base_uri": "https://localhost:8080/"
        },
        "id": "pFmh1M2ooXlM",
        "outputId": "55bdd710-0f27-48bc-b6d6-32bf07e90662"
      },
      "execution_count": 6,
      "outputs": [
        {
          "name": "stdout",
          "output_type": "stream",
          "text": [
            "Enter first num: 9\n",
            "Enter second num: 7.5\n"
          ]
        }
      ]
    },
    {
      "cell_type": "code",
      "source": [
        "# Arithmetic operations addition, substraction, multiplication and division\n",
        "addition = num1 + num2\n",
        "subtraction = num1 - num2\n",
        "multiplication = num1 * num2\n",
        "\n",
        "# Print results of addition, substraction and multiplication\n",
        "print(\"Addition: \", addition)\n",
        "print(\"Substraction: \", subtraction)\n",
        "print(\"Multiplication: \", multiplication)"
      ],
      "metadata": {
        "colab": {
          "base_uri": "https://localhost:8080/"
        },
        "id": "xLSRiq1rqGdZ",
        "outputId": "90839844-df2b-4b3f-ecf7-0843478ad5a1"
      },
      "execution_count": 7,
      "outputs": [
        {
          "output_type": "stream",
          "name": "stdout",
          "text": [
            "Addition:  16.5\n",
            "Substraction:  1.5\n",
            "Multiplication:  67.5\n"
          ]
        }
      ]
    },
    {
      "cell_type": "code",
      "source": [
        "# Division operation\n",
        "# check number2 is not zero for division\n",
        "if num2 != 0:\n",
        "  division = num1 / num2\n",
        "else:\n",
        "  div = \"cannot divide by zero\"\n",
        "\n",
        "# Print result\n",
        "print(\"Division: \", division)"
      ],
      "metadata": {
        "colab": {
          "base_uri": "https://localhost:8080/"
        },
        "id": "kzFllSjmqG3r",
        "outputId": "519419d2-afbc-4e24-e724-3fd2c7a099c7"
      },
      "execution_count": 8,
      "outputs": [
        {
          "output_type": "stream",
          "name": "stdout",
          "text": [
            "Division:  1.2\n"
          ]
        }
      ]
    },
    {
      "cell_type": "code",
      "source": [
        "# 2. Write a program that accepts a sentence and replace each occurrence of ‘python’ with ‘pythons’.\n",
        "# Enter sentence as input\n",
        "Input_Sentence = input(\"Enter a sentence: \")"
      ],
      "metadata": {
        "colab": {
          "base_uri": "https://localhost:8080/"
        },
        "id": "JqY5egXxrihR",
        "outputId": "5b31ddba-d88c-4f8a-9607-3bc6ff3a428d"
      },
      "execution_count": 10,
      "outputs": [
        {
          "name": "stdout",
          "output_type": "stream",
          "text": [
            "Enter a sentence: I love playing with python\n"
          ]
        }
      ]
    },
    {
      "cell_type": "code",
      "source": [
        "#Replace function is used to replace word\n",
        "mod_sentence = Input_Sentence.replace('python','pythons')\n",
        "\n",
        "# print sentence after modification\n",
        "print(\"The sentence after modification: \", mod_sentence)"
      ],
      "metadata": {
        "colab": {
          "base_uri": "https://localhost:8080/"
        },
        "id": "qj6vER_-ri_K",
        "outputId": "f488b80d-756a-48b4-eb8b-8b35e43b9ea3"
      },
      "execution_count": 11,
      "outputs": [
        {
          "output_type": "stream",
          "name": "stdout",
          "text": [
            "The sentence after modification:  I love playing with pythons\n"
          ]
        }
      ]
    },
    {
      "cell_type": "code",
      "source": [
        "# 3. Use the if statement conditions to write a program to print the letter grade based on an input class score.\n",
        "# Use the grading scheme we are using in this class.\n",
        "\n",
        "# Enter input score\n",
        "score = float(input(\"Enter total score: \"))"
      ],
      "metadata": {
        "colab": {
          "base_uri": "https://localhost:8080/"
        },
        "id": "A8TgzXXw1lf7",
        "outputId": "56c7656b-9221-454e-aff5-209a0a457e63"
      },
      "execution_count": 20,
      "outputs": [
        {
          "name": "stdout",
          "output_type": "stream",
          "text": [
            "Enter total score: 90.5\n"
          ]
        }
      ]
    },
    {
      "cell_type": "code",
      "source": [
        "# Check score based on grading scheme\n",
        "if score >= 90:\n",
        "  grade = 'A'\n",
        "elif score >= 80:\n",
        "  grade = 'B'\n",
        "elif score >= 70:\n",
        "  garde = 'C'\n",
        "elif score >= 60:\n",
        "  grade = 'D'\n",
        "else:\n",
        "  grade = 'F'\n",
        "# print grade\n",
        "print(\"Final grade for given score is: \", grade)"
      ],
      "metadata": {
        "colab": {
          "base_uri": "https://localhost:8080/"
        },
        "id": "baUpHW8R2MRz",
        "outputId": "11e43c4e-861c-4a79-dd70-5eccb65cecb4"
      },
      "execution_count": 21,
      "outputs": [
        {
          "output_type": "stream",
          "name": "stdout",
          "text": [
            "Final grade for given score is:  A\n"
          ]
        }
      ]
    }
  ]
}